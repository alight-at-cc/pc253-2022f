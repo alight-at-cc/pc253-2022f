{
 "cells": [
  {
   "cell_type": "markdown",
   "metadata": {},
   "source": [
    "## Introduction to the Jupyter notebook, and basic programming concepts"
   ]
  },
  {
   "cell_type": "markdown",
   "metadata": {},
   "source": [
    "Welcome to the Jupyter notebook! Please work through this notebook to get a feel for how Python works.  Double click on the cell to see what's written in it.  Press shift-enter to execute the cell (compile what's written inside).  Don't be afraid to google things that you don't quite understand.  The documentation might be difficult to parse at first, but you'll get better with practice.\n",
    "\n",
    "At the top you can rename this notebook by clicking on the notebook's name.  There are tools to add cells, as well as change their type.  For example, while we'll mostly use cells with Python code in them, this cell is a Markdown cell, which contains text and formatting tags.  Boxes like this are useful for longer comments about what your code is doing - they are useful to explain your thinking (to other people using or reading your code, or, importantly, to your future self when you come back to try to use the code later). \n",
    "\n",
    "### Basics \n",
    "You can include $\\LaTeX$ formulae by using \"\\\\$\", like this: $E = mc^2$.  (If you double-click on this box, you can see the code used to write that formula.)  Press shift-enter to see the formatted output again. \n",
    "\n",
    "In code boxes you can execute python code.  Click on a cell and press shift-enter to execute the code.  Click on the next cell and press shift-enter."
   ]
  },
  {
   "cell_type": "code",
   "execution_count": null,
   "metadata": {},
   "outputs": [],
   "source": [
    "1+2"
   ]
  },
  {
   "cell_type": "markdown",
   "metadata": {},
   "source": [
    "In python, you can use the usual +, -, /, and \\* as well as raising something to a power with \\**. You can also make comparisons using >, <, <=, >= and ==. Try this statement."
   ]
  },
  {
   "cell_type": "code",
   "execution_count": null,
   "metadata": {},
   "outputs": [],
   "source": [
    "((1+1)**2-1)/3"
   ]
  },
  {
   "cell_type": "markdown",
   "metadata": {},
   "source": [
    "A variable assignment is made by using ="
   ]
  },
  {
   "cell_type": "code",
   "execution_count": null,
   "metadata": {},
   "outputs": [],
   "source": [
    "x = 5\n",
    "print(x)"
   ]
  },
  {
   "cell_type": "markdown",
   "metadata": {},
   "source": [
    "Be careful about the order in which you execute cells.  If you try to use the variable `x` before it is defined, you will get an error.  Usually, notebooks are designed to be run in order from top to bottom."
   ]
  },
  {
   "cell_type": "markdown",
   "metadata": {},
   "source": [
    "Like all programming languages, Python uses a number of data types. So far, the numbers have been  integers, which are whole numbers.  Also commonly used in physics code are floating point numbers, which are decimal numbers or fractions."
   ]
  },
  {
   "cell_type": "code",
   "execution_count": null,
   "metadata": {},
   "outputs": [],
   "source": [
    "1.+1.7"
   ]
  },
  {
   "cell_type": "markdown",
   "metadata": {},
   "source": [
    "You can also convert data from one type to another by explicit \"typecasting\".  Here we convert strings (ordered lists of characters) to integers that can be used as numbers.  The first print statement combines the two strings by sticking the 4 onto the 5.  The second print converts them to integers and adds them."
   ]
  },
  {
   "cell_type": "code",
   "execution_count": null,
   "metadata": {},
   "outputs": [],
   "source": [
    "x = \"4\"\n",
    "y = \"5\"\n",
    "print(x+y)\n",
    "print(int(x)+int(y))"
   ]
  },
  {
   "cell_type": "markdown",
   "metadata": {},
   "source": [
    "You may have noticed by this point that you can explicitly print output using the `print()` function, but that many of the cells above have no `print()` but still generate output.  That is because executing a code cell will print out the output (or more formally, the return value) of the last line of the cell.  So if that cell is a number, expression, or variable, its value gets printed.  So a quick way to see the value of a variable is just to enter it in an empty cell and press shift-enter to execute the cell.  Try this:"
   ]
  },
  {
   "cell_type": "code",
   "execution_count": null,
   "metadata": {},
   "outputs": [],
   "source": [
    "y = 6.4\n",
    "z = 6.4**3\n",
    "z"
   ]
  },
  {
   "cell_type": "markdown",
   "metadata": {},
   "source": [
    "The above is fine for quick examination of variables while you're working, but in general if you want your final code to print values, you should include `print()` statements explicitly. "
   ]
  },
  {
   "cell_type": "markdown",
   "metadata": {},
   "source": [
    "Floating point numbers are prone to machine errors (small differences from exact numbers).  \n",
    "\n",
    "Try the code in the next cell, but before you do, predict what the output will be.  Remember that a double equals sign == is *testing* for equality, i.e. checking to see if two things are equal, whereas a single equals sign = assigns a value.  So `x=y` would set `x` to whatever value `y` currently has, which is not what we want to do here. "
   ]
  },
  {
   "cell_type": "code",
   "execution_count": null,
   "metadata": {},
   "outputs": [],
   "source": [
    "from numpy import pi, sin\n",
    "x = sin(pi)\n",
    "y = sin(3*pi)\n",
    "print(x==y)\n",
    "\n",
    "#if we print each variable's value, we can see that the numerical precision is the issue.\n",
    "print(x)\n",
    "print(y)"
   ]
  },
  {
   "cell_type": "markdown",
   "metadata": {},
   "source": [
    "What's going on?  Here we have imported two functions from the library numpy, which has a number of useful mathematical tools, including trig functions and constants like pi.  Then we did some simple calculations.  Add a bit more code above (e.g. some `print()` statements) and see if you can figure out why you get the answer above for that final line. \n",
    "\n",
    "In addition to importing specific parts of the library, we can also import the entire library, and, if we want, assign it a shorter nickname using the `as` syntax, which is optional. "
   ]
  },
  {
   "cell_type": "code",
   "execution_count": null,
   "metadata": {},
   "outputs": [],
   "source": [
    "import numpy as np\n",
    "np.pi"
   ]
  },
  {
   "cell_type": "markdown",
   "metadata": {},
   "source": [
    "Here we've imported the entire library, and told python that we want to refer to it by the abbreviation `np`.  Unlike the `from numpy import blah` line above, here the name assigned (`np`) has to be used when calling functions from the library.  If you want to import everything without having to use `np`, you can use `from numpy import *`, but this is usually not a good idea: it imports many functions you may not need, and it also makes for confusing code, since you've imported a lot of functions whose names may overlap with other functions you might use or define. \n",
    "\n",
    "So in general, we'll use `import numpy as np`.  (And you'll see that we use it in pretty much every program we write.) \n",
    "\n",
    "We can find out all the functions included in numpy by using dir."
   ]
  },
  {
   "cell_type": "code",
   "execution_count": null,
   "metadata": {},
   "outputs": [],
   "source": [
    "dir(np)"
   ]
  },
  {
   "cell_type": "markdown",
   "metadata": {},
   "source": [
    "Most libraries will also include help for the functions included.  For example, we can get help on the `print()` function:"
   ]
  },
  {
   "cell_type": "code",
   "execution_count": null,
   "metadata": {},
   "outputs": [],
   "source": [
    "help(print)"
   ]
  },
  {
   "cell_type": "markdown",
   "metadata": {},
   "source": [
    "However, `help()` gives an unexpected result on a numpy function:"
   ]
  },
  {
   "cell_type": "code",
   "execution_count": null,
   "metadata": {},
   "outputs": [],
   "source": [
    "help(np.sin)"
   ]
  },
  {
   "cell_type": "markdown",
   "metadata": {},
   "source": [
    "Note that there it states that numpy has its own helper function, `info`.  So get help for numpy functions like this: "
   ]
  },
  {
   "cell_type": "code",
   "execution_count": null,
   "metadata": {},
   "outputs": [],
   "source": [
    "np.info(np.sin)"
   ]
  },
  {
   "cell_type": "markdown",
   "metadata": {},
   "source": [
    "Numpy also has a shortcut to get this helpful information - also called the docstring in programming.  "
   ]
  },
  {
   "cell_type": "code",
   "execution_count": null,
   "metadata": {},
   "outputs": [],
   "source": [
    "np.sin?"
   ]
  },
  {
   "cell_type": "markdown",
   "metadata": {},
   "source": [
    "Another commonly used datastructure in Python is the list."
   ]
  },
  {
   "cell_type": "code",
   "execution_count": null,
   "metadata": {},
   "outputs": [],
   "source": [
    "data = [1, 2, 3, 4, 5]\n",
    "print(data[2])"
   ]
  },
  {
   "cell_type": "markdown",
   "metadata": {},
   "source": [
    "Note that the first list index is zero, so `data[2]` calls the *third* element in the list.  \n",
    "\n",
    "Python makes it very easy to iterate over lists, i.e. to go through the elements one at a time and do something with each element. "
   ]
  },
  {
   "cell_type": "code",
   "execution_count": null,
   "metadata": {},
   "outputs": [],
   "source": [
    "for d in data:\n",
    "    print(d)\n"
   ]
  },
  {
   "cell_type": "markdown",
   "metadata": {},
   "source": [
    "Unlike many programming languages like C, in Python, spacing is important.  Everything indented after the `for` statement will be included in the `for` loop.  This is also true for other flow control statements like `if` and `while`."
   ]
  },
  {
   "cell_type": "code",
   "execution_count": null,
   "metadata": {},
   "outputs": [],
   "source": [
    "counter = 0\n",
    "data = [11, 14, 16, 18]\n",
    "print(len(data))\n",
    "\n",
    "while counter < len(data):\n",
    "    print(\"Trying element \", counter)\n",
    "    ## if data[counter] == 2:\n",
    "    ##    print(\"found it!\")\n",
    "    print(data[counter])\n",
    "    counter = counter + 1"
   ]
  },
  {
   "cell_type": "markdown",
   "metadata": {},
   "source": [
    "Note that although a statement like `counter = counter + 1` makes no mathematical sense, it is a valid statement to increment the counter by 1. (Remember, a single equals sign is not asserting that things are equal as it does in mathematics; it is *defining* the left-hand side to take on the current value of the right-hand side.)   The statement, \"found it\" is another data type, a string.  The comparisons here create booleans (`True` or `False`), another data type.\n",
    "\n",
    "You may have noticed that the code above is inefficient - even after it finds the desired value, it steps through the other values, too.  See if you can figure out how to modify the above code so that it exits the loop once it finds that value. \n",
    "\n",
    "A useful data type from the numpy library is the array, which includes many useful array features."
   ]
  },
  {
   "cell_type": "code",
   "execution_count": null,
   "metadata": {},
   "outputs": [],
   "source": [
    "A = np.array([[1,0],[0,1]])\n",
    "print(A)\n",
    "B = np.array([[1,1],[1,1]])\n",
    "print(B)\n",
    "np.dot(A,B)"
   ]
  },
  {
   "cell_type": "markdown",
   "metadata": {},
   "source": [
    "Numpy includes a number of features to create useful arrays, `np.ones([x,y])` creates an array `x` by `y` of ones.  `np.zeros` does the same with zeroes.  The function `linspace` creates a set of equally spaced values between two numbers.  "
   ]
  },
  {
   "cell_type": "code",
   "execution_count": null,
   "metadata": {},
   "outputs": [],
   "source": [
    "x = np.linspace(0,10,20)\n",
    "print(x)"
   ]
  },
  {
   "cell_type": "markdown",
   "metadata": {},
   "source": [
    "Most mathematical functions applied to arrays work element-wise, so + or \\* will add or multiply individual elements of an array:"
   ]
  },
  {
   "cell_type": "code",
   "execution_count": null,
   "metadata": {},
   "outputs": [],
   "source": [
    "a = np.array([3,5,8, 10])\n",
    "print(a)\n",
    "print(a*5)"
   ]
  },
  {
   "cell_type": "markdown",
   "metadata": {},
   "source": [
    "You can also apply functions like `sin` or `exp` to numpy arrays, *as long as you use the numpy version of the function*.  So `np.sin` can be applied to a numpy array, but the `sin` function imported from the standard math library can only take a scalar argument. \n",
    "\n",
    "You can also define your own functions in Python.  Like `for` or `if`, indentation is important; everything indented will be within the function.  You define a function with `def`:"
   ]
  },
  {
   "cell_type": "code",
   "execution_count": null,
   "metadata": {},
   "outputs": [],
   "source": [
    "def addTwoNumbers(a, b):\n",
    "    '''Adds two numbers and returns the result.\n",
    "    Parameters:\n",
    "    a - the first integer or real to be added.\n",
    "    b - the second integer or real to be added.\n",
    "    \n",
    "    Returns: the integer or real sum of a and b.'''\n",
    "    #print(a+b)\n",
    "    return a + b"
   ]
  },
  {
   "cell_type": "markdown",
   "metadata": {},
   "source": [
    "If we want one of the numbers to have a default value, we can make it a _keyword argument_:"
   ]
  },
  {
   "cell_type": "code",
   "execution_count": null,
   "metadata": {},
   "outputs": [],
   "source": [
    "def addTwoNumbers(a, b=10):\n",
    "    '''Adds two numbers and returns the result.\n",
    "    Parameters:\n",
    "    a - the first integer or real to be added.\n",
    "    b - the second integer or real to be added (default value = 10).\n",
    "    \n",
    "    Returns: the integer or real sum of a and b.'''\n",
    "    #print(a+b)\n",
    "    return a + b"
   ]
  },
  {
   "cell_type": "markdown",
   "metadata": {},
   "source": [
    "Now let's use our function.  Notice what happens when you call the function with two numbers versus just one:"
   ]
  },
  {
   "cell_type": "code",
   "execution_count": null,
   "metadata": {},
   "outputs": [],
   "source": [
    "help(addTwoNumbers)\n",
    "sum_ab = addTwoNumbers(2,4)     #Here I am calling the function and assigning the result to a variable.\n",
    "print(\"Two inputs: \",sum_ab)    #Here I'm using the result that got returned\n",
    "\n",
    "print(\"Just one input:\", addTwoNumbers(2)) #Here I'm displaying the returned value without assigning it to a variable\n",
    " "
   ]
  },
  {
   "cell_type": "markdown",
   "metadata": {},
   "source": [
    "As you can see, I also included help text to describe what the function does and included a comment to the function call.  The help text includes what the function does, what the function expects as inputs (parameters) and what the result will be.  The np.sin help text earlier had more information, sometimes the help text includes what errors the function might throw or examples of the function's usage.\n",
    "\n",
    "Inline comments are important to explain what the function is doing, as do appropriate variable names.  Someone else may need to use your code, or you'll come back to it years later and forgotten everything about it.  Make a habit of documenting your code as you write it.\n",
    "\n",
    "\n",
    "### Plotting \n",
    "The other library we will be commonly using is `matplotlib`.  This library contains many plotting and visualization functions (the name comes from the fact that the functionality is similar to Matlab).  To use it, we import the library (`matplotlib.pyplot`), and also tell iPython that we would like any graphics output to be displayed directly in the notebook (we will change this later):"
   ]
  },
  {
   "cell_type": "code",
   "execution_count": null,
   "metadata": {},
   "outputs": [],
   "source": [
    "#tell notebook to plot graphics inside the cell rather than in a separate window or file (typically included at the top of a notebook)\n",
    "%matplotlib inline  \n",
    "import matplotlib.pyplot as plt  #map namespace of functions in module matplotlib.pyplot to reference label \"plt\"\n",
    "\n",
    "x = np.array(range(0,10))\n",
    "y = x**2\n",
    "plt.plot(x,y, \"bo\", label=\"data\")\n",
    "plt.xlabel(\"Number ($x$)\")\n",
    "plt.ylabel(\"Square ($x^2$)\")\n",
    "plt.legend(bbox_to_anchor=(1.5,1))\n",
    "plt.title(\"Square of numbers 1-10\")\n"
   ]
  },
  {
   "cell_type": "markdown",
   "metadata": {},
   "source": [
    "We have used the function `np.array()` to change the type of `range(0,10)` from a list to an array, in Python you can do this for most data types. Here it is useful because you cannot use mathematical functions like \\** on lists like you can arrays.  The `range(0,10)` function creates a list of integers from 0 to 10.  \n",
    "\n",
    "This plot is a static image, which is handy if we want to see exactly what will be saved when we call `plt.savefig()`.  If we want to use an interactive plot rather than have our graph appear as an image in the notebook, then we need to change the 'backend' accordingly.  This doesn't work easily when the notebook is hosted remotely, so we'll save it in case you are running this via Binder.\n",
    "\n",
    "If we want more control over the plot, it's conventional to use the _object oriented_ approach.  This means that we assign a variable to keep track of each part of the figure and then tell that part what we want it to do.  The structure is more or less like this: When you plot something, a figure object is created.  Then inside that an axis object is created.  Then we tell the axis to generate a certain kind of plot inside itself.  Instead of calling functions that find the current plot and insert labels, etc., you can keep track of the underlying axis *object* and call its *methods*.  \n",
    "\n",
    "Most plotting is done via the 'handles' of the axis, figure, etc. objects because it allows more control over the details.  I wanted to have it here so that it won't look totally unfamiliar when you google around.\n",
    "\n",
    "Here's the same plot as above using object oriented conventions:"
   ]
  },
  {
   "cell_type": "code",
   "execution_count": null,
   "metadata": {},
   "outputs": [],
   "source": [
    "fig = plt.figure()\n",
    "ax = fig.add_subplot()\n",
    "ax.plot(x,y, \"bo\", label=\"data\")\n",
    "ax.set_xlabel(\"Number ($x$)\")\n",
    "ax.set_ylabel(\"Square ($x^2$)\")\n",
    "ax.legend(bbox_to_anchor=(1.5,1))\n",
    "ax.set_title(\"Square of numbers 1-10\")"
   ]
  },
  {
   "cell_type": "markdown",
   "metadata": {},
   "source": [
    "Matplotlib has a lot of other functionality, such as $\\LaTeX$ input (included in this example), semilog or polar plots, and multiple subfigures.  We won't explore all the features, but there are many tutorials that you can find on the web. \n",
    "\n",
    "Finally, you can display two-dimensional arrays as if they were images, i.e. with each array value representing the intensity of one pixel:"
   ]
  },
  {
   "cell_type": "code",
   "execution_count": null,
   "metadata": {
    "scrolled": true
   },
   "outputs": [],
   "source": [
    "values = np.zeros([100,100],float)  #create 100 x 100 array of zeros as floating point numbers (not integers)\n",
    "\n",
    "#fill with sum of x-position and y-position\n",
    "for i in range(100):\n",
    "    for j in range(100):\n",
    "        values[i,j] = i + j \n",
    "        \n",
    "# now display our image\n",
    "plt.imshow(values)\n",
    "plt.show()"
   ]
  },
  {
   "cell_type": "markdown",
   "metadata": {},
   "source": [
    "Notice where the origin is when you use `plt.imshow()`.  Be aware that different functions have different default behavior based on the conventions applied by the coder.  If you want to place the origin of a 2D map at the lower left (e.g. when you have a map as a function of $x$ and $y$), you can set a keyword argument (\"kwarg\" for short):"
   ]
  },
  {
   "cell_type": "code",
   "execution_count": null,
   "metadata": {},
   "outputs": [],
   "source": [
    "plt.imshow(values,origin='lower')"
   ]
  },
  {
   "cell_type": "markdown",
   "metadata": {},
   "source": [
    "Notice also that the new cell already had access to the data in `values` and understood the label.  Anything you've already run in the notebook that is at the scope of the cell (i.e. not inside another function) is available to future cells.  If you don't run your cells in order, you might have a problem the next time you open your notebook.  \n",
    "\n",
    "I have aesthetic and informational issues with the some colormaps, so I typically choose one that's appropriate to my purpose and occasionally create my own.  Note that we are using the object oriented approach in the below example but in a slightly different way from above.  This is so that you can see some different ways of doing things."
   ]
  },
  {
   "cell_type": "code",
   "execution_count": null,
   "metadata": {},
   "outputs": [],
   "source": [
    "im = plt.imshow(values) # create axis object with image object inside\n",
    "\n",
    "#set image properties\n",
    "im.set_cmap('Blues')\n",
    "im.set_interpolation('none')\n",
    "\n",
    "#get handle for axis object\n",
    "ax = im.axes #this is an *attribute* of the image object -- the container it lives inside\n",
    "# alternatively, we could use plt.gca() # \"get current axis\" and assign axis object to label 'ax'\n",
    "# then we could get a handle to the image object via \n",
    "# im = ax.images[0]\n",
    "\n",
    "ax.set_xlabel('$x$ (pixels)') # assign labels and title\n",
    "ax.set_ylabel('$y$ (pixels)')\n",
    "ax.set_title('Image Data',y=1.02) \n",
    "ax.invert_yaxis()"
   ]
  },
  {
   "cell_type": "markdown",
   "metadata": {},
   "source": [
    "There are clearly multiple ways of accomplishing a task, and which is optimal depends on your style and goals.  Despite what the Zen of Python indicates, it is useful to have more than one way to do things.  If you ever wonder which style is most \"pythonic\" there is plenty of argument on stackexchange."
   ]
  },
  {
   "cell_type": "markdown",
   "metadata": {},
   "source": [
    "## Exercises:"
   ]
  },
  {
   "cell_type": "markdown",
   "metadata": {},
   "source": [
    "Write code for each of the exercises below in a Jupyter notebook.  You can either include them directly in this notebook, or you can create a new one that has only your code and output for the exercises.  \n",
    "\n",
    "If you are turning this in for credit, *Be sure all of the code runs without errors before turning it in!*  In general, once you have everything working it's a good idea to save the notebook, then use the menu commands to clear all output (Cell $\\rightarrow$  All output $\\rightarrow$ Clear) and then run all of the code at once (Cell $\\rightarrow$ Run All).  This will ensure that you haven't inadvertently run some cells out of order. "
   ]
  },
  {
   "cell_type": "markdown",
   "metadata": {},
   "source": [
    "**Exercise # 1** -- Practice with arrays and functions.\n",
    "\n",
    "One of the most common ways physicists use computation is to evaluate and visualize models.  To get a feel for how this can be done walk through the following steps to plot the trajectory of a projectile in 1D.\n",
    "> (a) First, write a function to evaluate the kinematics equation for constant acceleration in 1D given an array of times:\n",
    "$$y(t) = y_0 + v_0 t + \\frac{1}{2}a t^2$$\n",
    ">\n",
    ">I've given you a skeleton with everything except the essential piece you need to add.  Notice that the acceleration has a default value, but you could override that with a different value when you call the function."
   ]
  },
  {
   "cell_type": "code",
   "execution_count": null,
   "metadata": {},
   "outputs": [],
   "source": [
    "# define our function, with time first and then our parameters\n",
    "# (this ordering makes some of our later work easier)\n",
    "def constant_accel_kinematics(t, y0, v0, a=-9.8):\n",
    "    \"\"\"Return y values from vertical motion under\n",
    "    constant acceleration (Earth surface gravity by default), \n",
    "    with initial height y0 and initial speed v0, for input times t.\n",
    "    Assumes no air resistance.\n",
    "    \n",
    "    Parameters\n",
    "    --------\n",
    "    t: time array in seconds\n",
    "    y0: initial height in meters\n",
    "    v0: initial speed in meters/second\n",
    "    \"\"\"\n",
    "    #fill in the body of your function here\n",
    "    \n",
    "    return y\n",
    "\n"
   ]
  },
  {
   "cell_type": "markdown",
   "metadata": {},
   "source": [
    ">(b) Now choose a model scenario you can compute separately to compare against.  For example, you could choose dropping an object and calculating its position at 1, 2, 3, 4, and 5 seconds.  \n",
    ">\n",
    "> Calculate your position values by hand or using a calculator (not the function you wrote)."
   ]
  },
  {
   "cell_type": "markdown",
   "metadata": {},
   "source": [
    ">(c) Construct a time array corresponding to the scenario you chose and use your function to evaluate the position values.  "
   ]
  },
  {
   "cell_type": "code",
   "execution_count": null,
   "metadata": {},
   "outputs": [],
   "source": []
  },
  {
   "cell_type": "markdown",
   "metadata": {},
   "source": [
    ">Do they match what you calculated independently?  If so, your code might be right!  If not, find what caused the difference and iteratively improve your code or your independent calculation until they agree."
   ]
  },
  {
   "cell_type": "markdown",
   "metadata": {},
   "source": [
    ">(c) Now generate a scenario that would be harder to calculate by hand and use your code to evaluate it.  Choose a non-zero initial position and velocity, plus a relatively large array of times (at least 100).  Generate your time array, calculate the corresponding positions using your function, and then plot the position versus time.  Does it match what you expected?"
   ]
  },
  {
   "cell_type": "code",
   "execution_count": null,
   "metadata": {},
   "outputs": [],
   "source": []
  },
  {
   "cell_type": "markdown",
   "metadata": {},
   "source": [
    ">Look up the syntax for the `plt.savefig` function and use it to save the plot you just made as an image.  Send me the image when you're done and I'll know you've made it through the tutorial!"
   ]
  },
  {
   "cell_type": "code",
   "execution_count": null,
   "metadata": {},
   "outputs": [],
   "source": []
  }
 ],
 "metadata": {
  "kernelspec": {
   "display_name": "Python 3 (ipykernel)",
   "language": "python",
   "name": "python3"
  },
  "language_info": {
   "codemirror_mode": {
    "name": "ipython",
    "version": 3
   },
   "file_extension": ".py",
   "mimetype": "text/x-python",
   "name": "python",
   "nbconvert_exporter": "python",
   "pygments_lexer": "ipython3",
   "version": "3.9.7"
  }
 },
 "nbformat": 4,
 "nbformat_minor": 1
}
